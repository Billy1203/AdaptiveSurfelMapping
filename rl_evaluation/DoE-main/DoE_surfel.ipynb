{
 "cells": [
  {
   "cell_type": "markdown",
   "metadata": {},
   "source": [
    "[TTL page](https://towardsdatascience.com/response-optimization-with-design-of-experiments-and-python-63f9afb3f26f)"
   ]
  },
  {
   "cell_type": "code",
   "execution_count": 7,
   "metadata": {},
   "outputs": [],
   "source": [
    "import numpy as np\n",
    "import pandas as pd\n",
    "import matplotlib.pyplot as plt"
   ]
  },
  {
   "cell_type": "code",
   "execution_count": 16,
   "metadata": {},
   "outputs": [
    {
     "data": {
      "image/png": "[encoded data removed]",
      "text/plain": [
       "<Figure size 432x288 with 2 Axes>"
      ]
     },
     "metadata": {
      "needs_background": "light"
     },
     "output_type": "display_data"
    }
   ],
   "source": [
    "def gaussian_function(x, y, pars=None):\n",
    "    if not pars:\n",
    "        x0 = np.random.randn(1)[0]+0.5\n",
    "        y0 = x0+0.5\n",
    "        fwhm = np.random.normal(loc=1.5,scale=3, size=100).mean()\n",
    "    else:\n",
    "        x0, y0, fwhm = pars\n",
    "        \n",
    "    func = 10*np.exp(-4*np.log(2) * ((x-x0)**2 + (y-y0)**2) / fwhm**2)\n",
    "\n",
    "    return func, x0, y0, fwhm\n",
    "    \n",
    "\n",
    "    \n",
    "# random select a surface with linear gradient\n",
    "\n",
    "x = np.round(np.linspace(-2,2,101),2)\n",
    "y = np.round(np.linspace(-2,2,101),2)\n",
    "X, Y = np.meshgrid(x,y)\n",
    "Z, x0, y0, fwhm = gaussian_function(X,Y)\n",
    "plt.contourf(x,y,Z, levels=10, vmin=0)\n",
    "plt.colorbar()\n",
    "plt.show()"
   ]
  },
  {
   "cell_type": "code",
   "execution_count": 17,
   "metadata": {},
   "outputs": [],
   "source": [
    "def output_model(x_d1, y_d1, model=None, pars=None, cnt_point=True):\n",
    "\n",
    "    temp_df = pd.DataFrame([(i,j) for i in x_d1 for j in y_d1], columns=['x','y'])\n",
    "\n",
    "    if cnt_point:\n",
    "        temp_df.loc[len(temp_df)] = [temp_df['x'].mean(),temp_df['y'].mean()]\n",
    "        \n",
    "    temp_df = normal_to_coded_var(temp_df)    \n",
    "    temp_df['outcome'] = temp_df.apply(lambda x: gaussian_function(x['x'], x['y'], pars)[0], axis=1)\n",
    "    \n",
    "    if model:\n",
    "        temp_df['predict'] = model.predict(temp_df[['x','y']])\n",
    "        temp_df['mape'] = 100*(temp_df['outcome'] - temp_df['predict'])/temp_df['outcome']\n",
    "        \n",
    "    return temp_df\n",
    "    \n",
    "def normal_to_coded_var(temp_df, output_pars = False):\n",
    "        \n",
    "    mean_x = temp_df['x'].mean()\n",
    "    mean_y = temp_df['y'].mean()\n",
    "    range_x = temp_df['x'].max()-temp_df['x'].min()\n",
    "    range_y = temp_df['y'].max()-temp_df['y'].min()\n",
    "    \n",
    "    temp_df['cX'] = (temp_df['x']-mean_x)/(range_x/2)\n",
    "    temp_df['cY'] = (temp_df['y']-mean_y)/(range_y/2)\n",
    "    \n",
    "    if output_pars:\n",
    "        return mean_x, mean_y, range_x, range_y\n",
    "    \n",
    "    return temp_df"
   ]
  },
  {
   "cell_type": "code",
   "execution_count": 18,
   "metadata": {},
   "outputs": [],
   "source": [
    "from sklearn.linear_model import LinearRegression\n",
    "from sklearn.preprocessing import PolynomialFeatures\n",
    "from sklearn.pipeline import Pipeline\n",
    "\n",
    "\n",
    "def linear_pipe_fit(degree=2, interaction=True, dataframe=pd.DataFrame(), input_vars=['cX','cY']):\n",
    "    \n",
    "    lr = LinearRegression()\n",
    "    pol = PolynomialFeatures(degree=degree, interaction_only=interaction, include_bias=False)\n",
    "    pipe = Pipeline([('pol',pol), ('lr', lr)])\n",
    "    pipe.fit(dataframe[input_vars], dataframe['outcome'])\n",
    "    \n",
    "    return pipe"
   ]
  },
  {
   "cell_type": "code",
   "execution_count": 19,
   "metadata": {},
   "outputs": [],
   "source": [
    "def next_step(model=None, increment_y = 1, step_x = 0.125, step_y = 0.125, dataframe=pd.DataFrame()):\n",
    "    \n",
    "    mean_x, mean_y, range_x, range_y = normal_to_coded_var(dataframe, output_pars = True)\n",
    "    coef_x = model['lr'].coef_[0]\n",
    "    coef_y = model['lr'].coef_[1]\n",
    "    ratio = coef_x/coef_y\n",
    "    \n",
    "    print(f'coef x {coef_x:.2f} and coef y {coef_y:.2f}')\n",
    "    \n",
    "    increment_x = np.abs(ratio)*increment_y*np.sign(coef_x)\n",
    "    increment_y = increment_y*np.sign(coef_y)\n",
    "    \n",
    "    print(f'increment x {increment_x:.2f} and increment y {increment_y:.2f} with ratio {ratio:.2f}')\n",
    "    \n",
    "    base_x = increment_x*(range_x/2)+mean_x\n",
    "    base_y = increment_y*(range_y/2)+mean_y\n",
    "    \n",
    "    print(f'new x {base_x:.2f} and new y {base_y:.2f}')\n",
    "                \n",
    "    next_x = np.round(np.array([base_x-step_x, base_x+step_x]),2)\n",
    "    next_y = np.round(np.array([base_y-step_y, base_y+step_y]),2)\n",
    "    \n",
    "    return next_x, next_y"
   ]
  },
  {
   "cell_type": "code",
   "execution_count": 24,
   "metadata": {},
   "outputs": [
    {
     "name": "stdout",
     "output_type": "stream",
     "text": [
      "coef x -0.48 and coef y 0.82\n",
      "increment x -1.17 and increment y 2.00 with ratio -0.58\n",
      "new x 0.46 and new y -0.25\n"
     ]
    }
   ],
   "source": [
    "\n",
    "# first full factorial\n",
    "x_d1 = np.array([0.5,1])\n",
    "y_d1 = np.array([-0.5,-1])\n",
    "# generate the dataframe with experiments and their result\n",
    "first_doe = output_model(x_d1, y_d1, pars=(x0, y0, fwhm), cnt_point=False)\n",
    "# fit the model with second order polynomial with interactions only, the fit is done on the coded variables\n",
    "pipe1 = linear_pipe_fit(degree=2, interaction=True, dataframe=first_doe, input_vars=['cX','cY'])\n",
    "# plot the contour plot of the first design\n",
    "# plot_contour_fromdf(first_doe, fill_value=0, model = pipe1, plot_normal_vars=True)\n",
    "# generate the new coordinates based on the steepest path\n",
    "x_d2, y_d2 = next_step(model=pipe1, increment_y = 2, dataframe=first_doe)"
   ]
  },
  {
   "cell_type": "code",
   "execution_count": 27,
   "metadata": {},
   "outputs": [
    {
     "name": "stdout",
     "output_type": "stream",
     "text": [
      "coef x -1.93 and coef y 3.30\n",
      "increment x -1.17 and increment y 2.00 with ratio -0.58\n",
      "new x 0.46 and new y -0.25\n",
      "[0.33 0.58] [-0.38 -0.12]\n",
      "coef x -3.54 and coef y 6.82\n",
      "increment x -1.04 and increment y 2.00 with ratio -0.52\n",
      "new x 0.33 and new y 0.01\n",
      "[0.2  0.45] [-0.12  0.14]\n",
      "coef x -3.53 and coef y 6.73\n",
      "increment x -1.05 and increment y 2.00 with ratio -0.52\n",
      "new x 0.19 and new y 0.27\n",
      "[0.07 0.32] [0.15 0.4 ]\n",
      "coef x -2.39 and coef y 4.31\n",
      "increment x -1.11 and increment y 2.00 with ratio -0.55\n",
      "new x 0.06 and new y 0.53\n",
      "[-0.07  0.18] [0.4  0.65]\n",
      "coef x -0.17 and coef y 0.35\n",
      "increment x -0.93 and increment y 2.00 with ratio -0.47\n",
      "new x -0.06 and new y 0.78\n",
      "maximum found at iteration 4\n"
     ]
    }
   ],
   "source": [
    "steps_df = pd.DataFrame()\n",
    "x_t = np.array([0.5,1])\n",
    "y_t = np.array([-0.5,-1])\n",
    "for i in range(10):\n",
    "    test_df = output_model(x_t, y_t, pars=(x0, y0, fwhm), cnt_point=False)\n",
    "    test_df['iteration'] = i\n",
    "    pipe1 = linear_pipe_fit(degree=1, interaction=True, dataframe=test_df, input_vars=['x','y'])\n",
    "    x_t, y_t = next_step(pipe1, increment_y = 2, dataframe=test_df)\n",
    "    #plot_contour_fromdf(test_df, fill_value=0, model = pipe1, plot_normal_vars=True)\n",
    "    steps_df = steps_df.append(test_df)\n",
    "    max_outcome = test_df['outcome'].max()\n",
    "    \n",
    "    if max_outcome < steps_df['outcome'].max():\n",
    "        print(f'maximum found at iteration {i}')\n",
    "        break\n",
    "    print(x_t, y_t)"
   ]
  },
  {
   "cell_type": "code",
   "execution_count": null,
   "metadata": {},
   "outputs": [],
   "source": []
  }
 ],
 "metadata": {
  "kernelspec": {
   "display_name": "Python 3 (ipykernel)",
   "language": "python",
   "name": "python3"
  },
  "language_info": {
   "codemirror_mode": {
    "name": "ipython",
    "version": 3
   },
   "file_extension": ".py",
   "mimetype": "text/x-python",
   "name": "python",
   "nbconvert_exporter": "python",
   "pygments_lexer": "ipython3",
   "version": "3.10.8"
  }
 },
 "nbformat": 4,
 "nbformat_minor": 4
}
