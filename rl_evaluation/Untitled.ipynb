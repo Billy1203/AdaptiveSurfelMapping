{
 "cells": [
  {
   "cell_type": "code",
   "execution_count": 1,
   "id": "643bccfe",
   "metadata": {},
   "outputs": [],
   "source": [
    "import cv2\n",
    "import torch\n",
    "import sys\n",
    "import os\n",
    "\n",
    "sys.path.append(\"./PerceptualSimilarity-1.0/\")\n",
    "import models\n",
    "from util import util"
   ]
  },
  {
   "cell_type": "code",
   "execution_count": 4,
   "id": "62875779",
   "metadata": {},
   "outputs": [],
   "source": [
    "from skimage.metrics import peak_signal_noise_ratio as compare_psnr\n",
    "from skimage.metrics import structural_similarity as compare_ssim"
   ]
  },
  {
   "cell_type": "code",
   "execution_count": 2,
   "id": "49d9b6d3",
   "metadata": {},
   "outputs": [
    {
     "name": "stdout",
     "output_type": "stream",
     "text": [
      "Setting up Perceptual loss...\n",
      "Loading model from: /home/yiheng/rl_evaluation/PerceptualSimilarity-1.0/models/weights/v0.1/alex.pth\n",
      "...[net-lin [alex]] initialized\n",
      "...Done\n"
     ]
    }
   ],
   "source": [
    "lpips = models.PerceptualLoss(use_gpu=False)"
   ]
  },
  {
   "cell_type": "code",
   "execution_count": 3,
   "id": "b608fbcb",
   "metadata": {},
   "outputs": [],
   "source": [
    "gt_img = cv2.imread(\"./gt/paired.png\")\n",
    "paired_img = cv2.imread(\"./paired/2.5_2.5.png\")"
   ]
  },
  {
   "cell_type": "code",
   "execution_count": 8,
   "id": "9f190bdf",
   "metadata": {},
   "outputs": [],
   "source": [
    "psnr = compare_psnr(gt_img, paired_img)\n",
    "ssim = compare_ssim(gt_img, paired_img, channel_axis=2, data_range=255)"
   ]
  },
  {
   "cell_type": "code",
   "execution_count": 9,
   "id": "cc4dc2f7",
   "metadata": {},
   "outputs": [
    {
     "name": "stdout",
     "output_type": "stream",
     "text": [
      "13.293236241442578 0.5892168753706079\n"
     ]
    }
   ],
   "source": [
    "print(psnr, ssim)"
   ]
  },
  {
   "cell_type": "code",
   "execution_count": null,
   "id": "73467b0e",
   "metadata": {},
   "outputs": [],
   "source": [
    "gt_tensor = util.im2tensor(gt_img)\n",
    "paired_tensor = util.im2tensor(paired_img)\n",
    "\n",
    "lpips_value = torch.squeeze(lpips.forward(gt_tensor, paired_tensor))\n",
    "lpips_result = lpips_value.detach().nu"
   ]
  }
 ],
 "metadata": {
  "kernelspec": {
   "display_name": "Python 3 (ipykernel)",
   "language": "python",
   "name": "python3"
  },
  "language_info": {
   "codemirror_mode": {
    "name": "ipython",
    "version": 3
   },
   "file_extension": ".py",
   "mimetype": "text/x-python",
   "name": "python",
   "nbconvert_exporter": "python",
   "pygments_lexer": "ipython3",
   "version": "3.8.12"
  }
 },
 "nbformat": 4,
 "nbformat_minor": 5
}
