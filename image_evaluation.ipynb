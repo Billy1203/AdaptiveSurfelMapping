{
 "cells": [
  {
   "cell_type": "code",
   "execution_count": 1,
   "id": "49291270-7b14-4523-b94e-5bafc6c0d24b",
   "metadata": {
    "tags": []
   },
   "outputs": [],
   "source": [
    "import os\n",
    "import shutil\n",
    "import sys\n",
    "import cv2\n",
    "import torch\n",
    "import numpy as np\n",
    "from skimage.metrics import peak_signal_noise_ratio as compare_psnr\n",
    "from skimage.metrics import structural_similarity as compare_ssim\n",
    "import matplotlib.pyplot as plt\n",
    "\n",
    "# Insert the path of your PerceptualSimilarity package\n",
    "sys.path.append(\"/home/yiheng/Surfel/AdaptiveSurfelMapping/rl_evaluation/PerceptualSimilarity-1.0/\")\n",
    "import models\n",
    "from util import util"
   ]
  },
  {
   "cell_type": "code",
   "execution_count": 1,
   "id": "a5861b9d-bd1a-40b7-8d29-d4918edc0c9a",
   "metadata": {
    "tags": []
   },
   "outputs": [],
   "source": [
    "\n",
    "\n",
    "def evaluate_images(kitti_gt_path, paired_path):\n",
    "    # selected image indices\n",
    "    select_index = np.arange(1, 160)\n",
    "    select_images = [\"000%3s.png\" % i for i in select_index]\n",
    "\n",
    "    lpips_model = models.PerceptualLoss(use_gpu=torch.cuda.is_available())\n",
    "\n",
    "    psnr_value_list = []\n",
    "    lpips_value_list = []\n",
    "    ssim_value_list = []\n",
    "    for _select_image in select_images:\n",
    "        gt_image_path = os.path.join(kitti_gt_path, _select_image[-10:])\n",
    "        original_image_path = os.path.join(paired_path, _select_image)\n",
    "\n",
    "        original_img = cv2.imread(original_image_path)\n",
    "        gt_img = cv2.imread(gt_image_path)\n",
    "\n",
    "        psnr = compare_psnr(gt_img, original_img)\n",
    "        ssim = compare_ssim(gt_img, original_img, channel_axis=2, data_range=255)\n",
    "\n",
    "        gt_tensor = util.im2tensor(gt_img)\n",
    "        original_tensor = util.im2tensor(original_img)\n",
    "        lpips = torch.square(lpips_model.forward(gt_tensor, original_tensor))\n",
    "        lpips_tmp = lpips.detach().numpy()[0][0][0][0]\n",
    "\n",
    "        psnr_value_list.append(psnr)\n",
    "        ssim_value_list.append(ssim)\n",
    "        lpips_value_list.append(lpips_tmp)\n",
    "\n",
    "    avg_psnr = np.array(psnr_value_list).mean()\n",
    "    avg_ssim = np.array(ssim_value_list).mean()\n",
    "    avg_lpips = np.array(lpips_value_list).mean()\n",
    "\n",
    "    print(\"psnr=%.5f ssim=%.5f lpips=%.5f\" % (avg_psnr, avg_ssim, avg_lpips))\n",
    "    print(np.array(psnr_value_list).max(), np.array(ssim_value_list).max(), np.array(lpips_value_list).min())\n",
    "    print(psnr_value_list)\n",
    "    print(ssim_value_list)\n",
    "    print(lpips_value_list)\n"
   ]
  },
  {
   "cell_type": "code",
   "execution_count": 14,
   "id": "ae43b2e6-9f9f-4da9-ad4f-a2e10f6469fb",
   "metadata": {
    "tags": []
   },
   "outputs": [],
   "source": [
    "import os\n",
    "os.environ['CUDA_LAUNCH_BLOCKING'] = \"1\"\n"
   ]
  },
  {
   "cell_type": "code",
   "execution_count": 4,
   "id": "482dfb0c-cee0-4c2f-80ba-36cd935db0fc",
   "metadata": {
    "tags": []
   },
   "outputs": [
    {
     "data": {
      "text/plain": [
       "torch.Size([1, 3, 376, 1241])"
      ]
     },
     "execution_count": 4,
     "metadata": {},
     "output_type": "execute_result"
    }
   ],
   "source": [
    "gt_tensor.shape"
   ]
  },
  {
   "cell_type": "code",
   "execution_count": 5,
   "id": "2c0b882c-6839-4ee2-9ac1-401f0ccc19cd",
   "metadata": {
    "tags": []
   },
   "outputs": [
    {
     "data": {
      "text/plain": [
       "torch.Size([1, 3, 376, 1241])"
      ]
     },
     "execution_count": 5,
     "metadata": {},
     "output_type": "execute_result"
    }
   ],
   "source": [
    "original_tensor.shape"
   ]
  },
  {
   "cell_type": "code",
   "execution_count": 33,
   "id": "86375969-db33-41bf-a652-b553cd0ffbf3",
   "metadata": {
    "tags": []
   },
   "outputs": [
    {
     "name": "stdout",
     "output_type": "stream",
     "text": [
      "Setting up [LPIPS] perceptual loss: trunk [alex], v[0.1], spatial [off]\n",
      "Loading model from: /home/yiheng/anaconda3/envs/pytorch/lib/python3.10/site-packages/lpips/weights/v0.1/alex.pth\n",
      "Setting up [LPIPS] perceptual loss: trunk [vgg], v[0.1], spatial [off]\n"
     ]
    },
    {
     "name": "stderr",
     "output_type": "stream",
     "text": [
      "/home/yiheng/anaconda3/envs/pytorch/lib/python3.10/site-packages/torchvision/models/_utils.py:223: UserWarning: Arguments other than a weight enum or `None` for 'weights' are deprecated since 0.13 and will be removed in 0.15. The current behavior is equivalent to passing `weights=VGG16_Weights.IMAGENET1K_V1`. You can also use `weights=VGG16_Weights.DEFAULT` to get the most up-to-date weights.\n",
      "  warnings.warn(msg)\n"
     ]
    },
    {
     "name": "stdout",
     "output_type": "stream",
     "text": [
      "Loading model from: /home/yiheng/anaconda3/envs/pytorch/lib/python3.10/site-packages/lpips/weights/v0.1/vgg.pth\n"
     ]
    }
   ],
   "source": [
    "import lpips\n",
    "loss_fn_alex = lpips.LPIPS(net='alex') # best forward scores\n",
    "loss_fn_vgg = lpips.LPIPS(net='vgg')"
   ]
  },
  {
   "cell_type": "code",
   "execution_count": 42,
   "id": "68b28a69-965a-43da-a66b-72c23ae3f7a7",
   "metadata": {
    "tags": []
   },
   "outputs": [
    {
     "name": "stderr",
     "output_type": "stream",
     "text": [
      "/home/yiheng/anaconda3/envs/pytorch/lib/python3.10/site-packages/skimage/metrics/simple_metrics.py:163: RuntimeWarning: divide by zero encountered in double_scalars\n",
      "  return 10 * np.log10((data_range ** 2) / err)\n"
     ]
    },
    {
     "name": "stdout",
     "output_type": "stream",
     "text": [
      "psnr=inf ssim=1.00000 lpips=0.00000\n",
      "inf 1.0 0.0\n"
     ]
    }
   ],
   "source": [
    "kitti_gt_path = \"/home/yiheng/Surfel/dataset/kitti-0/kitti-02/image_2\"\n",
    "paired_path = \"/home/yiheng/Surfel/dataset/kitti-0/kitti-02/image_filled/\"\n",
    "\n",
    "# selected image indices\n",
    "select_index = np.arange(136, 262)\n",
    "select_images = [\"%06d.png\" % i for i in select_index] \n",
    "\n",
    "lpips_model = models.PerceptualLoss(use_gpu=torch.cuda.is_available())\n",
    "\n",
    "psnr_value_list = []\n",
    "lpips_value_list = []\n",
    "ssim_value_list = []\n",
    "for _select_image in select_images:\n",
    "    gt_image_path = os.path.join(kitti_gt_path, _select_image[-10:])\n",
    "    original_image_path = os.path.join(paired_path, _select_image)\n",
    "\n",
    "    original_img = cv2.imread(original_image_path)\n",
    "    gt_img = cv2.imread(gt_image_path)\n",
    "\n",
    "    psnr = compare_psnr(gt_img, original_img)\n",
    "    ssim = compare_ssim(gt_img, original_img, channel_axis=2, data_range=255)\n",
    "\n",
    "    gt_tensor = util.im2tensor(gt_img)\n",
    "    original_tensor = util.im2tensor(original_img)\n",
    "    lpips = loss_fn_alex(gt_tensor, original_tensor)\n",
    "    lpips_tmp = lpips.detach().numpy()[0][0][0][0]\n",
    "\n",
    "    psnr_value_list.append(psnr)\n",
    "    ssim_value_list.append(ssim)\n",
    "    lpips_value_list.append(lpips_tmp)\n",
    "\n",
    "avg_psnr = np.array(psnr_value_list).mean()\n",
    "avg_ssim = np.array(ssim_value_list).mean()\n",
    "avg_lpips = np.array(lpips_value_list).mean()\n",
    "\n",
    "print(\"psnr=%.5f ssim=%.5f lpips=%.5f\" % (avg_psnr, avg_ssim, avg_lpips))\n",
    "print(np.array(psnr_value_list).max(), np.array(ssim_value_list).max(), np.array(lpips_value_list).min())\n",
    "# print(psnr_value_list)\n",
    "# print(ssim_value_list)\n",
    "# print(lpips_value_list)"
   ]
  },
  {
   "cell_type": "markdown",
   "id": "72587808-fd4c-4049-b9f2-412d021ea1c6",
   "metadata": {},
   "source": [
    "kitti-02\n",
    "paired psnr=12.31825 ssim=0.38453 lpips=0.46338\n",
    "15.84546805603809 0.5045253659750183 0.3987272\n",
    "\n",
    "gan psnr=14.51296 ssim=0.41083 lpips=0.35449\n",
    "18.170917209405392 0.5613538958202912 0.29123986\n",
    "\n",
    "filled psnr=14.43560 ssim=0.43578 lpips=0.38539\n",
    "17.23800960729114 0.5463096652713028 0.3235725\n",
    "\n"
   ]
  },
  {
   "cell_type": "code",
   "execution_count": null,
   "id": "29012f83-9712-4dba-a1d7-874eef45a129",
   "metadata": {},
   "outputs": [],
   "source": []
  },
  {
   "cell_type": "code",
   "execution_count": null,
   "id": "77c09d3e-aa60-45b2-8f9f-07f20b9c145a",
   "metadata": {},
   "outputs": [],
   "source": []
  },
  {
   "cell_type": "markdown",
   "id": "b41580cd-aa52-46d5-8101-7122a2d03b50",
   "metadata": {},
   "source": [
    "# 图像修复"
   ]
  },
  {
   "cell_type": "code",
   "execution_count": 16,
   "id": "23ecbf51-3f60-4e81-a782-3238dd2c8471",
   "metadata": {
    "tags": []
   },
   "outputs": [],
   "source": [
    "import os\n",
    "from PIL import Image\n",
    "\n",
    "def resize_images(src_folder, dst_folder, new_size=(1241, 376)):\n",
    "# def resize_images(src_folder, dst_folder, new_size=(618, 185)):\n",
    "    if not os.path.exists(dst_folder):\n",
    "        os.makedirs(dst_folder)\n",
    "    for filename in os.listdir(src_folder):\n",
    "        if filename.endswith(('.png', '.jpg', '.jpeg')):  # 检查文件是否为图像文件\n",
    "            img_path = os.path.join(src_folder, filename)\n",
    "            img = Image.open(img_path)\n",
    "            img = img.resize(new_size, Image.ANTIALIAS)  # 调整图像大小\n",
    "            new_img_path = os.path.join(dst_folder, filename)\n",
    "            img.save(new_img_path)  # 保存新图像\n",
    "\n"
   ]
  },
  {
   "cell_type": "code",
   "execution_count": 21,
   "id": "a61d5fcd-83dd-4c89-bc89-970b5e90ccb0",
   "metadata": {
    "tags": []
   },
   "outputs": [
    {
     "name": "stderr",
     "output_type": "stream",
     "text": [
      "/tmp/ipykernel_544807/242208733.py:12: DeprecationWarning: ANTIALIAS is deprecated and will be removed in Pillow 10 (2023-07-01). Use LANCZOS or Resampling.LANCZOS instead.\n",
      "  img = img.resize(new_size, Image.ANTIALIAS)  # 调整图像大小\n"
     ]
    }
   ],
   "source": [
    "src_folder = '/home/yiheng/Surfel/dataset/kitti-0/kitti-02/synthesized_image/'  # 原始图像的文件夹路径\n",
    "dst_folder = '/home/yiheng/Surfel/dataset/kitti-0/kitti-02/synthesized_image_resized/'  # 新的文件夹路径\n",
    "resize_images(src_folder, dst_folder)"
   ]
  },
  {
   "cell_type": "code",
   "execution_count": 40,
   "id": "d4002373-f326-4427-8045-5504b0216ba0",
   "metadata": {
    "tags": []
   },
   "outputs": [],
   "source": [
    "import os\n",
    "from PIL import Image\n",
    "import numpy as np\n",
    "\n",
    "# 源文件夹路径和目标文件夹路径\n",
    "src_folder1 = '/home/yiheng/Surfel/dataset/kitti-0/kitti-02/paired'  # 请替换为实际路径\n",
    "src_folder2 = '/home/yiheng/Surfel/dataset/kitti-0/kitti-02/image_2'  # 请替换为实际路径\n",
    "src_folder3 = '/home/yiheng/Surfel/dataset/kitti-0/kitti-02/semantics'  # 请替换为实际路径\n",
    "dst_folder = '/home/yiheng/Surfel/dataset/kitti-0/kitti-02/image_filled'  # 请替换为实际路径\n",
    "\n",
    "# 如果目标文件夹不存在，创建它\n",
    "if not os.path.exists(dst_folder):\n",
    "    os.makedirs(dst_folder)\n",
    "\n",
    "# 遍历文件夹\n",
    "for i in range(136, 262):  \n",
    "    filename1 = f\"{src_folder1}/{i:06d}.png\"  # 构建第一个文件夹的文件名\n",
    "    filename2 = f\"{src_folder2}/{i:06d}.png\"  # 构建第二个文件夹的文件名\n",
    "    filename3 = f\"{src_folder3}/{i:06d}.png\"  # 构建语义分割结果文件名\n",
    "    \n",
    "    img1 = Image.open(filename1)\n",
    "    img2 = Image.open(filename2)\n",
    "    img3 = Image.open(filename3)\n",
    "    \n",
    "    img1_np = np.array(img1)\n",
    "    img2_np = np.array(img2)\n",
    "    img3_np = np.array(img3)\n",
    "    \n",
    "    # 找到黑色像素\n",
    "    black_pixels = (img1_np == [0, 0, 0]).all(axis=-1)\n",
    "    \n",
    "    # 1. 替换所有\n",
    "    img1_np[black_pixels] = img2_np[black_pixels]\n",
    "    \n",
    "    \n",
    "    # 2. 替换指定区域\n",
    "    # # 找到label等于0，1，9的像素[0, 1, 2, 8, 9, 14]\n",
    "    # replace_labels = np.isin(img3_np, np.arange(0, 20))\n",
    "    # replace_pixels = np.logical_and(black_pixels, replace_labels)\n",
    "    # img1_np[replace_pixels] = img2_np[replace_pixels]\n",
    "    \n",
    "    new_img = Image.fromarray(img1_np)\n",
    "    new_img.save(f\"{dst_folder}/{i:06d}.png\")\n",
    "        # 找到黑色像素和label不等于10的像素\n",
    "    # black_pixels = (img1_np == [0, 0, 0]).all(axis=-1)\n",
    "    # not_sky_pixels = img3_np != 10\n",
    "    \n",
    "    # # 只有在像素是黑色并且label不等于10的情况下才进行替换\n",
    "    # replace_pixels = np.logical_and(black_pixels, not_sky_pixels)\n",
    "    \n",
    "    # img1_np[replace_pixels] = img2_np[replace_pixels]\n",
    "    \n",
    "    # new_img = Image.fromarray(img1_np)\n",
    "    # new_img.save(f\"{dst_folder}/{i:06d}.png\")"
   ]
  },
  {
   "cell_type": "code",
   "execution_count": 36,
   "id": "ab9c5655-c920-4bea-96ed-9260aa1443ad",
   "metadata": {
    "tags": []
   },
   "outputs": [
    {
     "data": {
      "text/plain": [
       "(376, 1241, 3)"
      ]
     },
     "execution_count": 36,
     "metadata": {},
     "output_type": "execute_result"
    }
   ],
   "source": [
    "img1_np.shape"
   ]
  },
  {
   "cell_type": "code",
   "execution_count": 37,
   "id": "9e7798e3-04f9-4706-bbbb-734a9a5a8274",
   "metadata": {
    "tags": []
   },
   "outputs": [
    {
     "data": {
      "text/plain": [
       "(376, 1241, 3)"
      ]
     },
     "execution_count": 37,
     "metadata": {},
     "output_type": "execute_result"
    }
   ],
   "source": [
    "img2_np.shape"
   ]
  },
  {
   "cell_type": "code",
   "execution_count": 38,
   "id": "0bf67dc2-9952-40a7-b548-b806b710f536",
   "metadata": {
    "tags": []
   },
   "outputs": [
    {
     "data": {
      "text/plain": [
       "(376, 1241)"
      ]
     },
     "execution_count": 38,
     "metadata": {},
     "output_type": "execute_result"
    }
   ],
   "source": [
    "img3_np.shape"
   ]
  },
  {
   "cell_type": "code",
   "execution_count": null,
   "id": "ac839ab5-9140-4636-a2e7-7a0a69f2c250",
   "metadata": {},
   "outputs": [],
   "source": []
  }
 ],
 "metadata": {
  "kernelspec": {
   "display_name": "Python 3 (ipykernel)",
   "language": "python",
   "name": "python3"
  },
  "language_info": {
   "codemirror_mode": {
    "name": "ipython",
    "version": 3
   },
   "file_extension": ".py",
   "mimetype": "text/x-python",
   "name": "python",
   "nbconvert_exporter": "python",
   "pygments_lexer": "ipython3",
   "version": "3.10.8"
  }
 },
 "nbformat": 4,
 "nbformat_minor": 5
}
